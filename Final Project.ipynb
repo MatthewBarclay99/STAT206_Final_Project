{
 "cells": [
  {
   "cell_type": "markdown",
   "metadata": {},
   "source": [
    "# What makes an NBA All-Star?\n",
    "### STAT 206 Final Project"
   ]
  },
  {
   "cell_type": "markdown",
   "metadata": {},
   "source": [
    "Description"
   ]
  },
  {
   "cell_type": "code",
   "execution_count": null,
   "metadata": {},
   "outputs": [],
   "source": [
    "import Pkg\n",
    "Pkg.activate(pwd())\n",
    "Pkg.instantiate()\n",
    "Pkg.status()"
   ]
  },
  {
   "cell_type": "code",
   "execution_count": null,
   "metadata": {},
   "outputs": [],
   "source": [
    "using CSV, DataFrames\n",
    "using Plots, StatsPlots\n",
    "using Distributions\n",
    "using MLJ, MLJClusteringInterface\n",
    "using NearestNeighbors, StableRNGs, Random\n",
    "#import PlotlyJS as PJS#import because PlotlyJS overwrites all plots and statsplots\n",
    "#using Colors\n",
    "using MLJLIBSVMInterface\n",
    "using FreqTables"
   ]
  },
  {
   "cell_type": "code",
   "execution_count": null,
   "metadata": {
    "tags": []
   },
   "outputs": [],
   "source": [
    "nbadf = CSV.read(\"nba_2022_2023.csv\", DataFrame, stringtype = String) |> dropmissing\n",
    "#describe(nbadf)\n",
    "rename!(nbadf,\n",
    "Symbol(\"FG%\")=>:FGpct,\n",
    "Symbol(\"3P\")=>:ThreeP,\n",
    "Symbol(\"3PA\")=>:ThreePA,\n",
    "Symbol(\"3P%\")=>:ThreePpct,\n",
    "Symbol(\"2P\")=>:TwoP,\n",
    "Symbol(\"2PA\")=>:TwoPA,\n",
    "Symbol(\"2P%\")=>:TwoPpct,\n",
    "Symbol(\"eFG%\")=>:eFGpct,\n",
    "Symbol(\"FT%\")=>:FTpct,\n",
    ":PTS=>:PPG\n",
    ")\n",
    "\n",
    "#Convert multi-positional to their main position\n",
    "nbadf.Pos = first.(nbadf.Pos,2)\n",
    "#filter(:Pos => in([\"SG-PG\",\"SF-SG\",\"PG-SG\",\"SF-PF\",\"PF-C\",\"PF-SF\"]), nbadf)\n",
    "\n",
    "allstars = CSV.read(\"nba_2022_2023_allstars.csv\", DataFrame, stringtype = String)\n",
    "leftjoin!(nbadf,allstars, on = :Player => :NAME)\n",
    "replace!(nbadf.ALLSTAR, missing => \"N\")\n",
    "#filter(:ALLSTAR=>==(\"Y\"),nbadf)\n",
    "nbadf.GSpct = nbadf.GS ./ nbadf.G\n",
    "describe(nbadf)"
   ]
  },
  {
   "cell_type": "markdown",
   "metadata": {},
   "source": [
    "Columns Description:\n",
    "\n",
    "1. Rk: Rank\n",
    "2. Player: Player's name\n",
    "3. Pos: Position\n",
    "4. Age: Player's age\n",
    "5. Tm: Team\n",
    "6. G: Games played\n",
    "7. GSpct: Games started percentage\n",
    "8. MP: Minutes played per game\n",
    "9. FG: Field goals per game\n",
    "10. FGA: Field goal attempts per game\n",
    "11. FGpct: Field goal percentage\n",
    "12. ThreeP: 3-point field goals per game\n",
    "13. ThreePA: 3-point field goal attempts per game\n",
    "14. ThreePpct: 3-point field goal percentage\n",
    "15. TwoP: 2-point field goals per game\n",
    "16. TwoPA: 2-point field goal attempts per game\n",
    "17. TwoPpct: 2-point field goal percentage\n",
    "18. eFGpct: Effective field goal percentage\n",
    "19. FT: Free throws per game\n",
    "20. FTA: Free throw attempts per game\n",
    "21. FTpct: Free throw percentage\n",
    "22. ORB: Offensive rebounds per game\n",
    "23. DRB: Defensive rebounds per game\n",
    "24. TRB: Total rebounds per game\n",
    "25. AST: Assists per game\n",
    "26. STL: Steals per game\n",
    "27. BLK: Blocks per game\n",
    "28. TOV: Turnovers per game\n",
    "29. PF: Personal fouls per game\n",
    "30. PPG: Points per game\n",
    "31. ALLSTAR: All-Star status"
   ]
  },
  {
   "cell_type": "code",
   "execution_count": null,
   "metadata": {},
   "outputs": [],
   "source": [
    "numeric_df = select(nbadf, Not([:Player, :Pos, :Tm, :ALLSTAR,:GS]))\n",
    "vars = names(numeric_df)\n",
    "X = Matrix(numeric_df)\n",
    "M = cor(X)\n",
    "fig = heatmap(M, \n",
    "    title=\"Correlation Matrix - All Predictors\", \n",
    "    xticks=(1:26, vars), \n",
    "    yticks=(1:26, vars), \n",
    "    clims=(-1,1), \n",
    "    xrot=45,\n",
    "    color=cgrad(:balance, rev=true), \n",
    "    aspect=:ratio, \n",
    "    size=(900, 800)\n",
    ")\n",
    "\n",
    "for j in axes(M,2), i in axes(M,1)\n",
    "    annotate!(i,j, text(\"$(round(M[i,j], digits=2))\", :white, 8))\n",
    "end \n",
    "fig "
   ]
  },
  {
   "cell_type": "markdown",
   "metadata": {
    "slideshow": {
     "slide_type": "slide"
    }
   },
   "source": [
    "### Check for multicollinearity\n",
    "+ Shot attempts: high correlation between made shots and attempts, better to use shots made and shot pct\n",
    "+ eFGpct: According to [basketball-reference.com](https://www.basketball-reference.com/about/glossary.html), eFGpct = (FG + 0.5 * 3P) / FGA which is a linear equation of predictors\n",
    "+ Field Goals: Field goals is just 2P + 3P, so it is collinear\n",
    "+ Total Rebounds: Total rebounds is offensive + defensive rebounds, which is collinear\n",
    "+ Recommendation: Remove these predictors when creating linear models"
   ]
  },
  {
   "cell_type": "code",
   "execution_count": null,
   "metadata": {},
   "outputs": [],
   "source": [
    "vars = names(select(numeric_df, Not([:FG,:FGA,:FGpct,:ThreePA,:TwoPA,:FTA,:TRB,:eFGpct])))\n",
    "X = Matrix(select(numeric_df, Not([:FG,:FGA,:FGpct,:ThreePA,:TwoPA,:FTA,:TRB,:eFGpct])))\n",
    "M = cor(X)\n",
    "fig = heatmap(M, \n",
    "    title=\"Correlation Matrix\", \n",
    "    xticks=(1:18, vars), \n",
    "    yticks=(1:18, vars), \n",
    "    clims=(-1,1), \n",
    "    xrot=45,\n",
    "    color=cgrad(:balance, rev=true), \n",
    "    aspect=:ratio, \n",
    "    size=(900, 800)\n",
    ")\n",
    "\n",
    "for j in axes(M,2), i in axes(M,1)\n",
    "    annotate!(i,j, text(\"$(round(M[i,j], digits=2))\", :white, 8))\n",
    "end \n",
    "fig "
   ]
  },
  {
   "cell_type": "code",
   "execution_count": null,
   "metadata": {},
   "outputs": [],
   "source": [
    "# To make a ColorGradient for Heatmaps: color_palette = cgrad(Sample color scheme = :roma, scale = :log))\n",
    "@df nbadf scatter(:MP, :PPG, group = :ALLSTAR, \n",
    "smooth = true, linewidth = 4,\n",
    "title = \"Playtime efficiency\",\n",
    "xlabel = \"Minutes played per game\",\n",
    "ylabel = \"Points per game\",\n",
    "label = [\"Players\" \"Allstars\"])"
   ]
  },
  {
   "cell_type": "code",
   "execution_count": null,
   "metadata": {},
   "outputs": [],
   "source": [
    "filter(row->row.ALLSTAR==(\"Y\") && row.MP<20,nbadf)"
   ]
  },
  {
   "cell_type": "code",
   "execution_count": null,
   "metadata": {},
   "outputs": [],
   "source": [
    "groupedhist(nbadf.Age, group=nbadf.ALLSTAR, bar_position = :stack,\n",
    "title = \"Player Age Distribution\",\n",
    "xlabel = \"Age\",\n",
    "ylabel = \"Count\",\n",
    "label = [\"Players\" \"Allstars\"])"
   ]
  },
  {
   "cell_type": "code",
   "execution_count": null,
   "metadata": {},
   "outputs": [],
   "source": [
    "@df nbadf scatter(:ThreePA, :TwoP, group = :ALLSTAR)"
   ]
  },
  {
   "cell_type": "code",
   "execution_count": null,
   "metadata": {},
   "outputs": [],
   "source": [
    "scatter(nbadf.FTA, nbadf.Pos,group = nbadf.ALLSTAR)\n"
   ]
  },
  {
   "cell_type": "code",
   "execution_count": null,
   "metadata": {},
   "outputs": [],
   "source": [
    "boxplot(nbadf.Age, nbadf.G, xlabel=\"Age\", ylabel=\"Games Played\", label= nothing, \n",
    "size=(600, 300))\n"
   ]
  },
  {
   "cell_type": "markdown",
   "metadata": {},
   "source": [
    "## PCA Analysis"
   ]
  },
  {
   "cell_type": "code",
   "execution_count": null,
   "metadata": {},
   "outputs": [],
   "source": [
    "features = names(numeric_df)\n",
    "# load the PCA model\n",
    "PCA = @load PCA pkg = MultivariateStats\n",
    "\n",
    "# Standarize -> PCA w/ 97.5% variance.\n",
    "# The mean = 0 option means we do not need to center the data.\n",
    "model = Pipeline(Standardizer(), PCA(variance_ratio = 0.975))\n",
    "\n",
    "# Fit the machine.\n",
    "mach = machine(model, numeric_df) |> MLJ.fit!\n",
    "\n",
    "# Apply a transformation to the numeric data and convert to Matrix.\n",
    "Xproj = MLJ.transform(mach, numeric_df) |> Matrix"
   ]
  },
  {
   "cell_type": "code",
   "execution_count": null,
   "metadata": {},
   "outputs": [],
   "source": [
    "r = report(mach).pca"
   ]
  },
  {
   "cell_type": "code",
   "execution_count": null,
   "metadata": {},
   "outputs": [],
   "source": [
    "y = nbadf[:, :ALLSTAR] |> Vector\n",
    "scatter(Xproj[:, 1], Xproj[:, 2], Xproj[:, 3],\n",
    "  group = y,\n",
    "  title = \"NBA Data in PC coordinates\",\n",
    "  xlabel = \"PC1\",\n",
    "  ylabel = \"PC2\",\n",
    "  zlabel = \"PC3\",\n",
    "  label = [\"Players\" \"Allstars\"]\n",
    ")"
   ]
  },
  {
   "cell_type": "code",
   "execution_count": null,
   "metadata": {},
   "outputs": [],
   "source": [
    "y = nbadf[:, :ALLSTAR] |> Vector\n",
    "scatter(Xproj[:, 1], Xproj[:, 2],\n",
    "  group = y,\n",
    "  title = \"NBA Data in PC coordinates\",\n",
    "  xlabel = \"PC1\",\n",
    "  ylabel = \"PC2\",\n",
    "  label = [\"Players\" \"Allstars\"]\n",
    ")"
   ]
  },
  {
   "cell_type": "code",
   "execution_count": null,
   "metadata": {},
   "outputs": [],
   "source": [
    "include(\"plotvec.jl\")\n",
    "default(fmt = :png, dpi = 100)\n"
   ]
  },
  {
   "cell_type": "code",
   "execution_count": null,
   "metadata": {},
   "outputs": [],
   "source": [
    "L = r.loadings\n",
    "loadings_df = hcat(\n",
    "  DataFrame(feature = features),\n",
    "  DataFrame(L, :auto)\n",
    ")\n",
    "\n",
    "rename!(loadings_df, [:feature, :PC1, :PC2, :PC3])\n",
    "loadings_df"
   ]
  },
  {
   "cell_type": "code",
   "execution_count": null,
   "metadata": {},
   "outputs": [],
   "source": [
    "fig = scatter(Xproj[:, 1], Xproj[:, 2],\n",
    "  group = y,\n",
    "  title = \"NBA Data in PC coordinates\",\n",
    "  xlabel = \"PC1\",\n",
    "  ylabel = \"PC2\",\n",
    "  markerstrokewidth = 0,\n",
    ")\n",
    "ls = [L[i,1:2] for i in axes(L, 1)]\n",
    "plotvec!(fig, ls, color = :red)\n",
    "for (k, loading) in enumerate(ls)\n",
    "  annotate!(fig, loading[1], loading[2] + sign(loading[2])*0.1, text(features[k], :black, 10))\n",
    "end\n",
    "fig"
   ]
  },
  {
   "cell_type": "markdown",
   "metadata": {},
   "source": [
    "#### Interactive scatterplot from PlotlyJS"
   ]
  },
  {
   "cell_type": "code",
   "execution_count": null,
   "metadata": {},
   "outputs": [],
   "source": [
    "# PCA_df = DataFrame(:ALLSTAR=>nbadf[:,:ALLSTAR],:X1=>Xproj[:, 1],:X2=>Xproj[:, 2],:X3=>Xproj[:,3])\n",
    "\n",
    "# colors = [RGB(18/255, 133/255, 248/255), RGB(217/255, 89/255, 56/255)]\n",
    "# data = PJS.GenericTrace[]\n",
    "# df = filter(:ALLSTAR=>==(\"N\"),PCA_df)\n",
    "# PC1=df[:,:X1]\n",
    "# PC2=df[:,:X2]\n",
    "# PC3=df[:,:X3]\n",
    "# trace = PJS.scatter3d(name=\"Players\", mode=\"markers\",\n",
    "#                     marker_size=3, marker_color=colors[1], marker_line_width=0,\n",
    "#                     x=PC1, y=PC2, z=PC3)\n",
    "# push!(data, trace)\n",
    "# cluster = PJS.mesh3d(color=colors[1], opacity=0.3, x=PC1, y=PC2, z=PC3)\n",
    "# push!(data, cluster)\n",
    "\n",
    "# df = filter(:ALLSTAR=>==(\"Y\"),PCA_df)\n",
    "# PC1=df[:,:X1]\n",
    "# PC2=df[:,:X2]\n",
    "# PC3=df[:,:X3]\n",
    "# trace = PJS.scatter3d(name=\"Allstars\", mode=\"markers\",\n",
    "#                     marker_size=3, marker_color=colors[2], marker_line_width=0,\n",
    "#                     x=PC1, y=PC2, z=PC3)\n",
    "# push!(data, trace)\n",
    "# cluster = PJS.mesh3d(color=colors[2], opacity=0.3, x=PC1, y=PC2, z=PC3)\n",
    "# push!(data, cluster)\n",
    "# # notice the nested attrs to create complex JSON objects\n",
    "# layout = PJS.Layout(width=800, height=550, autosize=false, title=\"Interactive NBA Data in PC coordinates\",\n",
    "#                 scene=PJS.attr(xaxis=PJS.attr(gridcolor=\"rgb(255, 255, 255)\",\n",
    "#                                         zerolinecolor=\"rgb(255, 255, 255)\",\n",
    "#                                         showbackground=true,\n",
    "#                                         backgroundcolor=\"rgb(230, 230,230)\",\n",
    "#                                         title = \"PC1\"),\n",
    "#                             yaxis=PJS.attr(gridcolor=\"rgb(255, 255, 255)\",\n",
    "#                                         zerolinecolor=\"rgb(255, 255, 255)\",\n",
    "#                                         showbackground=true,\n",
    "#                                         backgroundcolor=\"rgb(230, 230,230)\",\n",
    "#                                         title = \"PC2\"),\n",
    "#                             zaxis=PJS.attr(gridcolor=\"rgb(255, 255, 255)\",\n",
    "#                                         zerolinecolor=\"rgb(255, 255, 255)\",\n",
    "#                                         showbackground=true,\n",
    "#                                         backgroundcolor=\"rgb(230, 230,230)\",\n",
    "#                                         title = \"PC3\"),\n",
    "#                             aspectratio=PJS.attr(x=1, y=1, z=0.7),\n",
    "#                             aspectmode = \"manual\"),\n",
    "#                             scene_camera = PJS.attr(eye=PJS.attr(x=1.25, y=-2, z=.75) # Try to match Plots output\n",
    "#                             ))\n",
    "# # p = PJS.plot(data, layout)\n",
    "# # open(\"./PCA3D.html\", \"w\") do io\n",
    "# #     PJS.PlotlyBase.to_html(io, p.plot)\n",
    "# # end"
   ]
  },
  {
   "cell_type": "markdown",
   "metadata": {},
   "source": [
    "<iframe width=900 height=600 src=\"./PCA3D.html\"></iframe>"
   ]
  },
  {
   "cell_type": "markdown",
   "metadata": {},
   "source": [
    "# Classification Models"
   ]
  },
  {
   "cell_type": "markdown",
   "metadata": {},
   "source": []
  },
  {
   "cell_type": "code",
   "execution_count": null,
   "metadata": {},
   "outputs": [],
   "source": [
    "KMeans = @load KMeans pkg = Clustering verbosity=0\n",
    "rng = StableRNG(206)\n",
    "standardizer = Standardizer()\n",
    "kmeans = KMeans(k=2)\n",
    "pipeline_model = Pipeline(standardizer,kmeans)\n",
    "machine1 = machine(pipeline_model, numeric_df)\n",
    "fit!(machine1)\n",
    "r = report(machine1)\n",
    "#@show r.k_means\n"
   ]
  },
  {
   "cell_type": "code",
   "execution_count": null,
   "metadata": {},
   "outputs": [],
   "source": [
    "pred_allstars = nbadf[r.k_means.assignments .== 1,:]\n",
    "pred_players = nbadf[r.k_means.assignments .== 2,:]\n",
    "@show length(filter(:ALLSTAR=>==(\"Y\"),pred_allstars).ALLSTAR)/length(pred_allstars.ALLSTAR)\n",
    "length(filter(:ALLSTAR=>==(\"N\"),pred_players).ALLSTAR)/length(pred_players.ALLSTAR)"
   ]
  },
  {
   "cell_type": "code",
   "execution_count": null,
   "metadata": {},
   "outputs": [],
   "source": []
  },
  {
   "cell_type": "code",
   "execution_count": null,
   "metadata": {},
   "outputs": [],
   "source": [
    "y = categorical(String.(nbadf[!, :ALLSTAR]), levels = [\"N\", \"Y\"])\n",
    "X = select(numeric_df, Not([:FG,:FGA,:FGpct,:ThreePA,:TwoPA,:FTA,:TRB,:eFGpct]))\n",
    "\n",
    "train, test = partition(eachindex(y), 0.8, shuffle=true, rng=1234);\n",
    "acc = Float64[] # accuracy()\n",
    "pre = Float64[] # multiclass_precision()\n",
    "rec = Float64[] # multiclass_recall()\n",
    "f1s = Float64[] # f1score()\n",
    "mat = []        # confusion_matrix()"
   ]
  },
  {
   "cell_type": "code",
   "execution_count": null,
   "metadata": {},
   "outputs": [],
   "source": [
    "KNNClassifier = @load KNNClassifier verbosity = 0\n",
    "LDA = @load LDA verbosity = 0\n",
    "NeuralNetworkClassifier = @load NeuralNetworkClassifier pkg = MLJFlux verbosity = 0\n",
    "MultinomialClassifier = @load MultinomialClassifier verbosity = 0\n",
    "DecisionTreeClassifier = @load DecisionTreeClassifier pkg = DecisionTree verbosity=0\n",
    "RandomForestClassifier = @load RandomForestClassifier pkg=DecisionTree verbosity=0\n",
    "LogisticClassifier = @load LogisticClassifier pkg= MLJLinearModels verbosity=0\n",
    "XGBoostClassifier = @load XGBoostClassifier pkg = XGBoost verbosity=0\n",
    "model_list = [\n",
    "    KNNClassifier(K = 5), # use nearest 5-neighbors to make predictions\n",
    "    LDA(),\n",
    "    NeuralNetworkClassifier(epochs = 50),\n",
    "    MultinomialClassifier(),\n",
    "    DecisionTreeClassifier(),\n",
    "    RandomForestClassifier(),\n",
    "    LogisticClassifier(),\n",
    "    XGBoostClassifier()\n",
    "]"
   ]
  },
  {
   "cell_type": "code",
   "execution_count": null,
   "metadata": {},
   "outputs": [],
   "source": [
    "for clf in model_list\n",
    "    Random.seed!(206)\n",
    "    # Create a pipeline model that standardizes, then fits a classifier.\n",
    "    model = Pipeline(Standardizer(), clf)\n",
    "    # Fit the model onto the training set\n",
    "    mach = machine(model, X, y)\n",
    "    fit!(mach, rows = train, verbosity = 0)\n",
    "    # Make predictions on the test set\n",
    "    yhat = MLJ.predict(mach, rows = test)\n",
    "    # Evaluate the model on the test set using selected metrics\n",
    "    #\n",
    "    # NOTES:\n",
    "    #\n",
    "    #   - MLJ.predict() may give probabilistic predictions. Use mode() to collapse to a concrete target.\n",
    "    #   - An evaluation metric F() always accepts inputs as F(fitted, observed).\n",
    "    #\n",
    "    push!(acc, accuracy(mode.(yhat), y[test]))\n",
    "    push!(pre, multiclass_precision(mode.(yhat), y[test]))\n",
    "    push!(rec, multiclass_recall(mode.(yhat), y[test]))\n",
    "    push!(f1s, f1score(mode.(yhat), y[test]))\n",
    "    push!(mat, ConfusionMatrix(levels = levels(y))(mode.(yhat), y[test]))\n",
    "end"
   ]
  },
  {
   "cell_type": "code",
   "execution_count": null,
   "metadata": {},
   "outputs": [],
   "source": [
    "results = DataFrame(\n",
    "    Model = typeof.(model_list),\n",
    "    Accuracy = acc,\n",
    "    Precision = pre,\n",
    "    Recall = rec,\n",
    "    F1 = f1s\n",
    ")"
   ]
  },
  {
   "cell_type": "code",
   "execution_count": null,
   "metadata": {},
   "outputs": [],
   "source": [
    "mat[1]  # KNNClassifier"
   ]
  },
  {
   "cell_type": "code",
   "execution_count": null,
   "metadata": {},
   "outputs": [],
   "source": [
    "mat[2]  # LDA"
   ]
  },
  {
   "cell_type": "code",
   "execution_count": null,
   "metadata": {},
   "outputs": [],
   "source": [
    "mat[3]  # NeuralNetworkClassifier"
   ]
  },
  {
   "cell_type": "code",
   "execution_count": null,
   "metadata": {},
   "outputs": [],
   "source": [
    "mat[4]  # MultinomialClassifier"
   ]
  },
  {
   "cell_type": "code",
   "execution_count": null,
   "metadata": {},
   "outputs": [],
   "source": [
    "mat[5] #Decision Tree"
   ]
  },
  {
   "cell_type": "code",
   "execution_count": null,
   "metadata": {},
   "outputs": [],
   "source": [
    "mat[6] #Ridge"
   ]
  },
  {
   "cell_type": "code",
   "execution_count": null,
   "metadata": {},
   "outputs": [],
   "source": [
    "mat[7] #Logistic"
   ]
  },
  {
   "cell_type": "code",
   "execution_count": null,
   "metadata": {},
   "outputs": [],
   "source": [
    "mat[8] #XGBoost"
   ]
  },
  {
   "cell_type": "code",
   "execution_count": null,
   "metadata": {},
   "outputs": [],
   "source": [
    "#Understand most important predictors\n",
    "import XGBoost\n",
    "y_encode = replace(y,\"Y\"=>1,\"N\"=>0)\n",
    "b = XGBoost.xgboost((X,y_encode))\n",
    "pred = [row>0.5 for row in XGBoost.predict(b,X)]\n",
    "y2= replace(nbadf.ALLSTAR,\"Y\"=>1,\"N\"=>0)#test\n",
    "1-mean(abs.(pred.-y2))#Accuracy\n",
    "\n",
    "d = (XGBoost.importance(b))"
   ]
  },
  {
   "cell_type": "code",
   "execution_count": null,
   "metadata": {},
   "outputs": [],
   "source": [
    "model = Pipeline(Standardizer(), LogisticClassifier())\n",
    "    # Fit the model onto the training set\n",
    "    mach = machine(model, X, y_encode)\n",
    "    fit!(mach, verbosity = 0)\n",
    "fitted_params(mach).logistic_classifier.coefs |> DataFrame\n",
    "#MLJ.predict(mach)"
   ]
  },
  {
   "cell_type": "code",
   "execution_count": null,
   "metadata": {},
   "outputs": [],
   "source": []
  }
 ],
 "metadata": {
  "kernelspec": {
   "display_name": "Julia 1.10.0",
   "language": "julia",
   "name": "julia-1.10"
  },
  "language_info": {
   "file_extension": ".jl",
   "mimetype": "application/julia",
   "name": "julia",
   "version": "1.10.0"
  }
 },
 "nbformat": 4,
 "nbformat_minor": 4
}
