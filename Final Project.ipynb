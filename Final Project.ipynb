{
 "cells": [
  {
   "cell_type": "markdown",
   "metadata": {},
   "source": [
    "# STAT 206 Final Project"
   ]
  },
  {
   "cell_type": "markdown",
   "metadata": {},
   "source": [
    "Description"
   ]
  },
  {
   "cell_type": "code",
   "execution_count": 3,
   "metadata": {},
   "outputs": [
    {
     "name": "stderr",
     "output_type": "stream",
     "text": [
      "\u001b[32m\u001b[1m  Activating\u001b[22m\u001b[39m project at `~/STAT206_Final_Project`\n"
     ]
    },
    {
     "name": "stdout",
     "output_type": "stream",
     "text": [
      "\u001b[32m\u001b[1mStatus\u001b[22m\u001b[39m `~/STAT206_Final_Project/Project.toml`\n"
     ]
    },
    {
     "name": "stdout",
     "output_type": "stream",
     "text": [
      "  \u001b[90m[6e4b80f9] \u001b[39mBenchmarkTools v1.4.0\n",
      "  \u001b[90m[336ed68f] \u001b[39mCSV v0.10.12\n",
      "  \u001b[90m[324d7699] \u001b[39mCategoricalArrays v0.10.8\n",
      "  \u001b[90m[a93c6f00] \u001b[39mDataFrames v1.6.1\n",
      "  \u001b[90m[1313f7d8] \u001b[39mDataFramesMeta v0.14.1\n",
      "  \u001b[90m[b4f34e82] \u001b[39mDistances v0.10.11\n",
      "  \u001b[90m[31c24e10] \u001b[39mDistributions v0.25.107\n",
      "\u001b[32m⌃\u001b[39m \u001b[90m[587475ba] \u001b[39mFlux v0.14.9\n",
      "  \u001b[90m[da1fdf0e] \u001b[39mFreqTables v0.4.6\n",
      "  \u001b[90m[8d5ece8b] \u001b[39mGLMNet v0.7.2\n",
      "\u001b[33m⌅\u001b[39m \u001b[90m[28b8d3ca] \u001b[39mGR v0.72.10\n",
      "  \u001b[90m[09f84164] \u001b[39mHypothesisTests v0.11.0\n",
      "  \u001b[90m[7073ff75] \u001b[39mIJulia v1.24.2\n",
      "  \u001b[90m[add582a8] \u001b[39mMLJ v0.20.2\n",
      "  \u001b[90m[d354fa79] \u001b[39mMLJClusteringInterface v0.1.11\n",
      "  \u001b[90m[094fc8d1] \u001b[39mMLJFlux v0.4.0\n",
      "\u001b[32m⌃\u001b[39m \u001b[90m[caf8df21] \u001b[39mMLJGLMInterface v0.3.5\n",
      "  \u001b[90m[61c7150f] \u001b[39mMLJLIBSVMInterface v0.2.1\n",
      "  \u001b[90m[6ee0df7b] \u001b[39mMLJLinearModels v0.10.0\n",
      "  \u001b[90m[1b6a4a23] \u001b[39mMLJMultivariateStatsInterface v0.5.3\n",
      "  \u001b[90m[33e4bacb] \u001b[39mMLJNaiveBayesInterface v0.1.6\n",
      "  \u001b[90m[5ae90465] \u001b[39mMLJScikitLearnInterface v0.6.1\n",
      "  \u001b[90m[636a865e] \u001b[39mNearestNeighborModels v0.2.3\n",
      "  \u001b[90m[8b842266] \u001b[39mPalmerPenguins v0.1.4\n",
      "\u001b[32m⌃\u001b[39m \u001b[90m[91a5bcdd] \u001b[39mPlots v1.39.0\n",
      "  \u001b[90m[8162dcfd] \u001b[39mPrettyPrint v0.2.0\n",
      "  \u001b[90m[ce6b1742] \u001b[39mRDatasets v0.7.7\n",
      "\u001b[32m⌃\u001b[39m \u001b[90m[d519eb52] \u001b[39mRegressionTables v0.6.1\n",
      "  \u001b[90m[8e980c4a] \u001b[39mShapefile v0.12.0\n",
      "  \u001b[90m[de6bee2f] \u001b[39mSimpleChains v0.4.6\n",
      "  \u001b[90m[860ef19b] \u001b[39mStableRNGs v1.0.1\n",
      "  \u001b[90m[2913bbd2] \u001b[39mStatsBase v0.34.2\n",
      "\u001b[32m⌃\u001b[39m \u001b[90m[f3b207a7] \u001b[39mStatsPlots v0.15.6\n",
      "  \u001b[90m[10745b16] \u001b[39mStatistics v1.10.0\n",
      "\u001b[36m\u001b[1mInfo\u001b[22m\u001b[39m Packages marked with \u001b[32m⌃\u001b[39m and \u001b[33m⌅\u001b[39m have new versions available. Those with \u001b[32m⌃\u001b[39m may be upgradable, but those with \u001b[33m⌅\u001b[39m are restricted by compatibility constraints from upgrading. To see why use `status --outdated`\n"
     ]
    }
   ],
   "source": [
    "import Pkg\n",
    "Pkg.activate(pwd())\n",
    "#Pkg.instantiate()\n",
    "Pkg.status()"
   ]
  },
  {
   "cell_type": "code",
   "execution_count": 4,
   "metadata": {},
   "outputs": [],
   "source": [
    "using CSV, DataFrames"
   ]
  },
  {
   "cell_type": "code",
   "execution_count": 5,
   "metadata": {},
   "outputs": [
    {
     "name": "stdout",
     "output_type": "stream",
     "text": [
      "describe(nbadf) = 29×7 DataFrame\n",
      " Row │ variable   mean      min         median  max              nmissing  eltype\n",
      "     │ Symbol     Union…    Any         Union…  Any              Int64     DataType\n",
      "─────┼──────────────────────────────────────────────────────────────────────────────\n",
      "   1 │ Player               A.J. Green          Zion Williamson         0  String\n",
      "   2 │ Pos                  C                   SG-PG                   0  String\n",
      "   3 │ Age        26.1106   19          25.0    42                      0  Int64\n",
      "   4 │ Tm                   ATL                 WAS                     0  String\n",
      "   5 │ G          45.9359   1           48.0    83                      0  Int64\n",
      "   6 │ GS         21.359    0           7.0     83                      0  Int64\n",
      "   7 │ MP         20.3478   2.8         19.45   38.2                    0  Float64\n",
      "   8 │ FG         3.42965   0.2         2.7     11.2                    0  Float64\n",
      "   9 │ FGA        7.31266   0.5         6.0     22.2                    0  Float64\n",
      "  10 │ FGpct      0.465397  0.158       0.4545  0.9                     0  Float64\n",
      "  11 │ ThreeP     1.06683   0.0         0.9     4.9                     0  Float64\n",
      "  12 │ ThreePA    2.96699   0.0         2.5     11.4                    0  Float64\n",
      "  13 │ ThreePpct  0.333359  0.0         0.35    1.0                     0  Float64\n",
      "  14 │ TwoP       2.36522   0.0         1.7     10.5                    0  Float64\n",
      "  15 │ TwoPA      4.34647   0.2         3.3     17.8                    0  Float64\n",
      "  16 │ TwoPpct    0.536611  0.0         0.536   1.0                     0  Float64\n",
      "  17 │ eFGpct     0.538563  0.184       0.537   0.95                    0  Float64\n",
      "  18 │ FT         1.45545   0.0         0.9     10.0                    0  Float64\n",
      "  19 │ FTA        1.86763   0.1         1.3     12.3                    0  Float64\n",
      "  20 │ FTpct      0.758575  0.0         0.7695  1.0                     0  Float64\n",
      "  21 │ ORB        0.855769  0.0         0.7     5.1                     0  Float64\n",
      "  22 │ DRB        2.72292   0.0         2.4     9.6                     0  Float64\n",
      "  23 │ TRB        3.57772   0.0         3.1     12.5                    0  Float64\n",
      "  24 │ AST        2.12019   0.0         1.4     10.7                    0  Float64\n",
      "  25 │ STL        0.624199  0.0         0.6     2.2                     0  Float64\n",
      "  26 │ BLK        0.38109   0.0         0.3     3.0                     0  Float64\n",
      "  27 │ TOV        1.11843   0.0         0.9     4.1                     0  Float64\n",
      "  28 │ PF         1.71763   0.0         1.7     5.0                     0  Float64\n",
      "  29 │ PPG        9.37869   0.9         7.4     33.1                    0  Float64\n"
     ]
    },
    {
     "data": {
      "text/html": [
       "<div><div style = \"float: left;\"><span>29×7 DataFrame</span></div><div style = \"float: right;\"><span style = \"font-style: italic;\">4 rows omitted</span></div><div style = \"clear: both;\"></div></div><div class = \"data-frame\" style = \"overflow-x: scroll;\"><table class = \"data-frame\" style = \"margin-bottom: 6px;\"><thead><tr class = \"header\"><th class = \"rowNumber\" style = \"font-weight: bold; text-align: right;\">Row</th><th style = \"text-align: left;\">variable</th><th style = \"text-align: left;\">mean</th><th style = \"text-align: left;\">min</th><th style = \"text-align: left;\">median</th><th style = \"text-align: left;\">max</th><th style = \"text-align: left;\">nmissing</th><th style = \"text-align: left;\">eltype</th></tr><tr class = \"subheader headerLastRow\"><th class = \"rowNumber\" style = \"font-weight: bold; text-align: right;\"></th><th title = \"Symbol\" style = \"text-align: left;\">Symbol</th><th title = \"Union{Nothing, Float64}\" style = \"text-align: left;\">Union…</th><th title = \"Any\" style = \"text-align: left;\">Any</th><th title = \"Union{Nothing, Float64}\" style = \"text-align: left;\">Union…</th><th title = \"Any\" style = \"text-align: left;\">Any</th><th title = \"Int64\" style = \"text-align: left;\">Int64</th><th title = \"DataType\" style = \"text-align: left;\">DataType</th></tr></thead><tbody><tr><td class = \"rowNumber\" style = \"font-weight: bold; text-align: right;\">1</td><td style = \"text-align: left;\">Player</td><td style = \"font-style: italic; text-align: left;\"></td><td style = \"text-align: left;\">A.J. Green</td><td style = \"font-style: italic; text-align: left;\"></td><td style = \"text-align: left;\">Zion Williamson</td><td style = \"text-align: right;\">0</td><td style = \"text-align: left;\">String</td></tr><tr><td class = \"rowNumber\" style = \"font-weight: bold; text-align: right;\">2</td><td style = \"text-align: left;\">Pos</td><td style = \"font-style: italic; text-align: left;\"></td><td style = \"text-align: left;\">C</td><td style = \"font-style: italic; text-align: left;\"></td><td style = \"text-align: left;\">SG-PG</td><td style = \"text-align: right;\">0</td><td style = \"text-align: left;\">String</td></tr><tr><td class = \"rowNumber\" style = \"font-weight: bold; text-align: right;\">3</td><td style = \"text-align: left;\">Age</td><td style = \"text-align: left;\">26.1106</td><td style = \"text-align: left;\">19</td><td style = \"text-align: left;\">25.0</td><td style = \"text-align: left;\">42</td><td style = \"text-align: right;\">0</td><td style = \"text-align: left;\">Int64</td></tr><tr><td class = \"rowNumber\" style = \"font-weight: bold; text-align: right;\">4</td><td style = \"text-align: left;\">Tm</td><td style = \"font-style: italic; text-align: left;\"></td><td style = \"text-align: left;\">ATL</td><td style = \"font-style: italic; text-align: left;\"></td><td style = \"text-align: left;\">WAS</td><td style = \"text-align: right;\">0</td><td style = \"text-align: left;\">String</td></tr><tr><td class = \"rowNumber\" style = \"font-weight: bold; text-align: right;\">5</td><td style = \"text-align: left;\">G</td><td style = \"text-align: left;\">45.9359</td><td style = \"text-align: left;\">1</td><td style = \"text-align: left;\">48.0</td><td style = \"text-align: left;\">83</td><td style = \"text-align: right;\">0</td><td style = \"text-align: left;\">Int64</td></tr><tr><td class = \"rowNumber\" style = \"font-weight: bold; text-align: right;\">6</td><td style = \"text-align: left;\">GS</td><td style = \"text-align: left;\">21.359</td><td style = \"text-align: left;\">0</td><td style = \"text-align: left;\">7.0</td><td style = \"text-align: left;\">83</td><td style = \"text-align: right;\">0</td><td style = \"text-align: left;\">Int64</td></tr><tr><td class = \"rowNumber\" style = \"font-weight: bold; text-align: right;\">7</td><td style = \"text-align: left;\">MP</td><td style = \"text-align: left;\">20.3478</td><td style = \"text-align: left;\">2.8</td><td style = \"text-align: left;\">19.45</td><td style = \"text-align: left;\">38.2</td><td style = \"text-align: right;\">0</td><td style = \"text-align: left;\">Float64</td></tr><tr><td class = \"rowNumber\" style = \"font-weight: bold; text-align: right;\">8</td><td style = \"text-align: left;\">FG</td><td style = \"text-align: left;\">3.42965</td><td style = \"text-align: left;\">0.2</td><td style = \"text-align: left;\">2.7</td><td style = \"text-align: left;\">11.2</td><td style = \"text-align: right;\">0</td><td style = \"text-align: left;\">Float64</td></tr><tr><td class = \"rowNumber\" style = \"font-weight: bold; text-align: right;\">9</td><td style = \"text-align: left;\">FGA</td><td style = \"text-align: left;\">7.31266</td><td style = \"text-align: left;\">0.5</td><td style = \"text-align: left;\">6.0</td><td style = \"text-align: left;\">22.2</td><td style = \"text-align: right;\">0</td><td style = \"text-align: left;\">Float64</td></tr><tr><td class = \"rowNumber\" style = \"font-weight: bold; text-align: right;\">10</td><td style = \"text-align: left;\">FGpct</td><td style = \"text-align: left;\">0.465397</td><td style = \"text-align: left;\">0.158</td><td style = \"text-align: left;\">0.4545</td><td style = \"text-align: left;\">0.9</td><td style = \"text-align: right;\">0</td><td style = \"text-align: left;\">Float64</td></tr><tr><td class = \"rowNumber\" style = \"font-weight: bold; text-align: right;\">11</td><td style = \"text-align: left;\">ThreeP</td><td style = \"text-align: left;\">1.06683</td><td style = \"text-align: left;\">0.0</td><td style = \"text-align: left;\">0.9</td><td style = \"text-align: left;\">4.9</td><td style = \"text-align: right;\">0</td><td style = \"text-align: left;\">Float64</td></tr><tr><td class = \"rowNumber\" style = \"font-weight: bold; text-align: right;\">12</td><td style = \"text-align: left;\">ThreePA</td><td style = \"text-align: left;\">2.96699</td><td style = \"text-align: left;\">0.0</td><td style = \"text-align: left;\">2.5</td><td style = \"text-align: left;\">11.4</td><td style = \"text-align: right;\">0</td><td style = \"text-align: left;\">Float64</td></tr><tr><td class = \"rowNumber\" style = \"font-weight: bold; text-align: right;\">13</td><td style = \"text-align: left;\">ThreePpct</td><td style = \"text-align: left;\">0.333359</td><td style = \"text-align: left;\">0.0</td><td style = \"text-align: left;\">0.35</td><td style = \"text-align: left;\">1.0</td><td style = \"text-align: right;\">0</td><td style = \"text-align: left;\">Float64</td></tr><tr><td style = \"text-align: right;\">&vellip;</td><td style = \"text-align: right;\">&vellip;</td><td style = \"text-align: right;\">&vellip;</td><td style = \"text-align: right;\">&vellip;</td><td style = \"text-align: right;\">&vellip;</td><td style = \"text-align: right;\">&vellip;</td><td style = \"text-align: right;\">&vellip;</td><td style = \"text-align: right;\">&vellip;</td></tr><tr><td class = \"rowNumber\" style = \"font-weight: bold; text-align: right;\">18</td><td style = \"text-align: left;\">FT</td><td style = \"text-align: left;\">1.45545</td><td style = \"text-align: left;\">0.0</td><td style = \"text-align: left;\">0.9</td><td style = \"text-align: left;\">10.0</td><td style = \"text-align: right;\">0</td><td style = \"text-align: left;\">Float64</td></tr><tr><td class = \"rowNumber\" style = \"font-weight: bold; text-align: right;\">19</td><td style = \"text-align: left;\">FTA</td><td style = \"text-align: left;\">1.86763</td><td style = \"text-align: left;\">0.1</td><td style = \"text-align: left;\">1.3</td><td style = \"text-align: left;\">12.3</td><td style = \"text-align: right;\">0</td><td style = \"text-align: left;\">Float64</td></tr><tr><td class = \"rowNumber\" style = \"font-weight: bold; text-align: right;\">20</td><td style = \"text-align: left;\">FTpct</td><td style = \"text-align: left;\">0.758575</td><td style = \"text-align: left;\">0.0</td><td style = \"text-align: left;\">0.7695</td><td style = \"text-align: left;\">1.0</td><td style = \"text-align: right;\">0</td><td style = \"text-align: left;\">Float64</td></tr><tr><td class = \"rowNumber\" style = \"font-weight: bold; text-align: right;\">21</td><td style = \"text-align: left;\">ORB</td><td style = \"text-align: left;\">0.855769</td><td style = \"text-align: left;\">0.0</td><td style = \"text-align: left;\">0.7</td><td style = \"text-align: left;\">5.1</td><td style = \"text-align: right;\">0</td><td style = \"text-align: left;\">Float64</td></tr><tr><td class = \"rowNumber\" style = \"font-weight: bold; text-align: right;\">22</td><td style = \"text-align: left;\">DRB</td><td style = \"text-align: left;\">2.72292</td><td style = \"text-align: left;\">0.0</td><td style = \"text-align: left;\">2.4</td><td style = \"text-align: left;\">9.6</td><td style = \"text-align: right;\">0</td><td style = \"text-align: left;\">Float64</td></tr><tr><td class = \"rowNumber\" style = \"font-weight: bold; text-align: right;\">23</td><td style = \"text-align: left;\">TRB</td><td style = \"text-align: left;\">3.57772</td><td style = \"text-align: left;\">0.0</td><td style = \"text-align: left;\">3.1</td><td style = \"text-align: left;\">12.5</td><td style = \"text-align: right;\">0</td><td style = \"text-align: left;\">Float64</td></tr><tr><td class = \"rowNumber\" style = \"font-weight: bold; text-align: right;\">24</td><td style = \"text-align: left;\">AST</td><td style = \"text-align: left;\">2.12019</td><td style = \"text-align: left;\">0.0</td><td style = \"text-align: left;\">1.4</td><td style = \"text-align: left;\">10.7</td><td style = \"text-align: right;\">0</td><td style = \"text-align: left;\">Float64</td></tr><tr><td class = \"rowNumber\" style = \"font-weight: bold; text-align: right;\">25</td><td style = \"text-align: left;\">STL</td><td style = \"text-align: left;\">0.624199</td><td style = \"text-align: left;\">0.0</td><td style = \"text-align: left;\">0.6</td><td style = \"text-align: left;\">2.2</td><td style = \"text-align: right;\">0</td><td style = \"text-align: left;\">Float64</td></tr><tr><td class = \"rowNumber\" style = \"font-weight: bold; text-align: right;\">26</td><td style = \"text-align: left;\">BLK</td><td style = \"text-align: left;\">0.38109</td><td style = \"text-align: left;\">0.0</td><td style = \"text-align: left;\">0.3</td><td style = \"text-align: left;\">3.0</td><td style = \"text-align: right;\">0</td><td style = \"text-align: left;\">Float64</td></tr><tr><td class = \"rowNumber\" style = \"font-weight: bold; text-align: right;\">27</td><td style = \"text-align: left;\">TOV</td><td style = \"text-align: left;\">1.11843</td><td style = \"text-align: left;\">0.0</td><td style = \"text-align: left;\">0.9</td><td style = \"text-align: left;\">4.1</td><td style = \"text-align: right;\">0</td><td style = \"text-align: left;\">Float64</td></tr><tr><td class = \"rowNumber\" style = \"font-weight: bold; text-align: right;\">28</td><td style = \"text-align: left;\">PF</td><td style = \"text-align: left;\">1.71763</td><td style = \"text-align: left;\">0.0</td><td style = \"text-align: left;\">1.7</td><td style = \"text-align: left;\">5.0</td><td style = \"text-align: right;\">0</td><td style = \"text-align: left;\">Float64</td></tr><tr><td class = \"rowNumber\" style = \"font-weight: bold; text-align: right;\">29</td><td style = \"text-align: left;\">PPG</td><td style = \"text-align: left;\">9.37869</td><td style = \"text-align: left;\">0.9</td><td style = \"text-align: left;\">7.4</td><td style = \"text-align: left;\">33.1</td><td style = \"text-align: right;\">0</td><td style = \"text-align: left;\">Float64</td></tr></tbody></table></div>"
      ],
      "text/latex": [
       "\\begin{tabular}{r|ccccccc}\n",
       "\t& variable & mean & min & median & max & nmissing & eltype\\\\\n",
       "\t\\hline\n",
       "\t& Symbol & Union… & Any & Union… & Any & Int64 & DataType\\\\\n",
       "\t\\hline\n",
       "\t1 & Player &  & A.J. Green &  & Zion Williamson & 0 & String \\\\\n",
       "\t2 & Pos &  & C &  & SG-PG & 0 & String \\\\\n",
       "\t3 & Age & 26.1106 & 19 & 25.0 & 42 & 0 & Int64 \\\\\n",
       "\t4 & Tm &  & ATL &  & WAS & 0 & String \\\\\n",
       "\t5 & G & 45.9359 & 1 & 48.0 & 83 & 0 & Int64 \\\\\n",
       "\t6 & GS & 21.359 & 0 & 7.0 & 83 & 0 & Int64 \\\\\n",
       "\t7 & MP & 20.3478 & 2.8 & 19.45 & 38.2 & 0 & Float64 \\\\\n",
       "\t8 & FG & 3.42965 & 0.2 & 2.7 & 11.2 & 0 & Float64 \\\\\n",
       "\t9 & FGA & 7.31266 & 0.5 & 6.0 & 22.2 & 0 & Float64 \\\\\n",
       "\t10 & FGpct & 0.465397 & 0.158 & 0.4545 & 0.9 & 0 & Float64 \\\\\n",
       "\t11 & ThreeP & 1.06683 & 0.0 & 0.9 & 4.9 & 0 & Float64 \\\\\n",
       "\t12 & ThreePA & 2.96699 & 0.0 & 2.5 & 11.4 & 0 & Float64 \\\\\n",
       "\t13 & ThreePpct & 0.333359 & 0.0 & 0.35 & 1.0 & 0 & Float64 \\\\\n",
       "\t14 & TwoP & 2.36522 & 0.0 & 1.7 & 10.5 & 0 & Float64 \\\\\n",
       "\t15 & TwoPA & 4.34647 & 0.2 & 3.3 & 17.8 & 0 & Float64 \\\\\n",
       "\t16 & TwoPpct & 0.536611 & 0.0 & 0.536 & 1.0 & 0 & Float64 \\\\\n",
       "\t17 & eFGpct & 0.538563 & 0.184 & 0.537 & 0.95 & 0 & Float64 \\\\\n",
       "\t18 & FT & 1.45545 & 0.0 & 0.9 & 10.0 & 0 & Float64 \\\\\n",
       "\t19 & FTA & 1.86763 & 0.1 & 1.3 & 12.3 & 0 & Float64 \\\\\n",
       "\t20 & FTpct & 0.758575 & 0.0 & 0.7695 & 1.0 & 0 & Float64 \\\\\n",
       "\t21 & ORB & 0.855769 & 0.0 & 0.7 & 5.1 & 0 & Float64 \\\\\n",
       "\t22 & DRB & 2.72292 & 0.0 & 2.4 & 9.6 & 0 & Float64 \\\\\n",
       "\t23 & TRB & 3.57772 & 0.0 & 3.1 & 12.5 & 0 & Float64 \\\\\n",
       "\t24 & AST & 2.12019 & 0.0 & 1.4 & 10.7 & 0 & Float64 \\\\\n",
       "\t$\\dots$ & $\\dots$ & $\\dots$ & $\\dots$ & $\\dots$ & $\\dots$ & $\\dots$ & $\\dots$ \\\\\n",
       "\\end{tabular}\n"
      ],
      "text/plain": [
       "\u001b[1m29×7 DataFrame\u001b[0m\n",
       "\u001b[1m Row \u001b[0m│\u001b[1m variable \u001b[0m\u001b[1m mean     \u001b[0m\u001b[1m min        \u001b[0m\u001b[1m median \u001b[0m\u001b[1m max             \u001b[0m\u001b[1m nmissing \u001b[0m\u001b[1m elty\u001b[0m ⋯\n",
       "     │\u001b[90m Symbol   \u001b[0m\u001b[90m Union…   \u001b[0m\u001b[90m Any        \u001b[0m\u001b[90m Union… \u001b[0m\u001b[90m Any             \u001b[0m\u001b[90m Int64    \u001b[0m\u001b[90m Data\u001b[0m ⋯\n",
       "─────┼──────────────────────────────────────────────────────────────────────────\n",
       "   1 │ Player   \u001b[90m          \u001b[0m A.J. Green \u001b[90m        \u001b[0m Zion Williamson         0  Stri ⋯\n",
       "   2 │ Pos      \u001b[90m          \u001b[0m C          \u001b[90m        \u001b[0m SG-PG                   0  Stri\n",
       "   3 │ Age       26.1106   19          25.0    42                      0  Int6\n",
       "   4 │ Tm       \u001b[90m          \u001b[0m ATL        \u001b[90m        \u001b[0m WAS                     0  Stri\n",
       "   5 │ G         45.9359   1           48.0    83                      0  Int6 ⋯\n",
       "   6 │ GS        21.359    0           7.0     83                      0  Int6\n",
       "   7 │ MP        20.3478   2.8         19.45   38.2                    0  Floa\n",
       "   8 │ FG        3.42965   0.2         2.7     11.2                    0  Floa\n",
       "  ⋮  │    ⋮         ⋮          ⋮         ⋮            ⋮            ⋮         ⋮ ⋱\n",
       "  23 │ TRB       3.57772   0.0         3.1     12.5                    0  Floa ⋯\n",
       "  24 │ AST       2.12019   0.0         1.4     10.7                    0  Floa\n",
       "  25 │ STL       0.624199  0.0         0.6     2.2                     0  Floa\n",
       "  26 │ BLK       0.38109   0.0         0.3     3.0                     0  Floa\n",
       "  27 │ TOV       1.11843   0.0         0.9     4.1                     0  Floa ⋯\n",
       "  28 │ PF        1.71763   0.0         1.7     5.0                     0  Floa\n",
       "  29 │ PPG       9.37869   0.9         7.4     33.1                    0  Floa\n",
       "\u001b[36m                                                    1 column and 14 rows omitted\u001b[0m"
      ]
     },
     "metadata": {},
     "output_type": "display_data"
    }
   ],
   "source": [
    "nbadf = CSV.read(\"nba_2022_2023.csv\", DataFrame, stringtype = String) |> dropmissing\n",
    "#describe(nbadf)\n",
    "rename!(nbadf,\n",
    "Symbol(\"FG%\")=>:FGpct,\n",
    "Symbol(\"3P\")=>:ThreeP,\n",
    "Symbol(\"3PA\")=>:ThreePA,\n",
    "Symbol(\"3P%\")=>:ThreePpct,\n",
    "Symbol(\"2P\")=>:TwoP,\n",
    "Symbol(\"2PA\")=>:TwoPA,\n",
    "Symbol(\"2P%\")=>:TwoPpct,\n",
    "Symbol(\"eFG%\")=>:eFGpct,\n",
    "Symbol(\"FT%\")=>:FTpct,\n",
    ":PTS=>:PPG\n",
    ")\n",
    "@show describe(nbadf)"
   ]
  },
  {
   "cell_type": "markdown",
   "metadata": {},
   "source": [
    "Columns Description:\n",
    "\n",
    "1. Rk: Rank\n",
    "2. Player: Player's name\n",
    "3. Pos: Position\n",
    "4. Age: Player's age\n",
    "5. Tm: Team\n",
    "6. G: Games played\n",
    "7. GS: Games started\n",
    "8. MP: Minutes played per game\n",
    "9. FG: Field goals per game\n",
    "10. FGA: Field goal attempts per game\n",
    "11. FGpct: Field goal percentage\n",
    "12. ThreeP: 3-point field goals per game\n",
    "13. ThreePA: 3-point field goal attempts per game\n",
    "14. ThreePpct: 3-point field goal percentage\n",
    "15. TwoP: 2-point field goals per game\n",
    "16. TwoPA: 2-point field goal attempts per game\n",
    "17. TwoPpct: 2-point field goal percentage\n",
    "18. eFGpct: Effective field goal percentage\n",
    "19. FT: Free throws per game\n",
    "20. FTA: Free throw attempts per game\n",
    "21. FTpct: Free throw percentage\n",
    "22. ORB: Offensive rebounds per game\n",
    "23. DRB: Defensive rebounds per game\n",
    "24. TRB: Total rebounds per game\n",
    "25. AST: Assists per game\n",
    "26. STL: Steals per game\n",
    "27. BLK: Blocks per game\n",
    "28. TOV: Turnovers per game\n",
    "29. PF: Personal fouls per game\n",
    "30. PPG: Points per game"
   ]
  }
 ],
 "metadata": {
  "kernelspec": {
   "display_name": "Julia 1.10.0",
   "language": "julia",
   "name": "julia-1.10"
  },
  "language_info": {
   "file_extension": ".jl",
   "mimetype": "application/julia",
   "name": "julia",
   "version": "1.10.0"
  }
 },
 "nbformat": 4,
 "nbformat_minor": 2
}
