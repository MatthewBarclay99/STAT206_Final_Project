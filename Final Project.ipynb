{
 "cells": [
  {
   "cell_type": "markdown",
   "metadata": {},
   "source": [
    "# STAT 206 Final Project"
   ]
  },
  {
   "cell_type": "markdown",
   "metadata": {},
   "source": [
    "Description"
   ]
  },
  {
   "cell_type": "code",
   "execution_count": null,
   "metadata": {},
   "outputs": [],
   "source": [
    "import Pkg\n",
    "Pkg.activate(pwd())\n",
    "import Pkg; Pkg.add(\"Colors\")\n",
    "Pkg.instantiate()\n",
    "Pkg.status()"
   ]
  },
  {
   "cell_type": "code",
   "execution_count": null,
   "metadata": {},
   "outputs": [],
   "source": [
    "using CSV, DataFrames\n",
    "using Plots, StatsPlots\n",
    "using Distributions\n",
    "using Colors"
   ]
  },
  {
   "cell_type": "code",
   "execution_count": null,
   "metadata": {},
   "outputs": [],
   "source": [
    "nbadf = CSV.read(\"nba_2022_2023.csv\", DataFrame, stringtype = String) |> dropmissing\n",
    "#describe(nbadf)\n",
    "rename!(nbadf,\n",
    "Symbol(\"FG%\")=>:FGpct,\n",
    "Symbol(\"3P\")=>:ThreeP,\n",
    "Symbol(\"3PA\")=>:ThreePA,\n",
    "Symbol(\"3P%\")=>:ThreePpct,\n",
    "Symbol(\"2P\")=>:TwoP,\n",
    "Symbol(\"2PA\")=>:TwoPA,\n",
    "Symbol(\"2P%\")=>:TwoPpct,\n",
    "Symbol(\"eFG%\")=>:eFGpct,\n",
    "Symbol(\"FT%\")=>:FTpct,\n",
    ":PTS=>:PPG\n",
    ")\n",
    "\n",
    "#Convert multi-positional to their main position\n",
    "nbadf.Pos = first.(nbadf.Pos,2)\n",
    "#filter(:Pos => in([\"SG-PG\",\"SF-SG\",\"PG-SG\",\"SF-PF\",\"PF-C\",\"PF-SF\"]), nbadf)\n",
    "\n",
    "allstars = CSV.read(\"nba_2022_2023_allstars.csv\", DataFrame, stringtype = String)\n",
    "leftjoin!(nbadf,allstars, on = :Player => :NAME)\n",
    "replace!(nbadf.ALLSTAR, missing => \"N\")\n",
    "filter(:ALLSTAR=>==(\"Y\"),nbadf)"
   ]
  },
  {
   "cell_type": "markdown",
   "metadata": {},
   "source": [
    "Columns Description:\n",
    "\n",
    "1. Rk: Rank\n",
    "2. Player: Player's name\n",
    "3. Pos: Position\n",
    "4. Age: Player's age\n",
    "5. Tm: Team\n",
    "6. G: Games played\n",
    "7. GS: Games started\n",
    "8. MP: Minutes played per game\n",
    "9. FG: Field goals per game\n",
    "10. FGA: Field goal attempts per game\n",
    "11. FGpct: Field goal percentage\n",
    "12. ThreeP: 3-point field goals per game\n",
    "13. ThreePA: 3-point field goal attempts per game\n",
    "14. ThreePpct: 3-point field goal percentage\n",
    "15. TwoP: 2-point field goals per game\n",
    "16. TwoPA: 2-point field goal attempts per game\n",
    "17. TwoPpct: 2-point field goal percentage\n",
    "18. eFGpct: Effective field goal percentage\n",
    "19. FT: Free throws per game\n",
    "20. FTA: Free throw attempts per game\n",
    "21. FTpct: Free throw percentage\n",
    "22. ORB: Offensive rebounds per game\n",
    "23. DRB: Defensive rebounds per game\n",
    "24. TRB: Total rebounds per game\n",
    "25. AST: Assists per game\n",
    "26. STL: Steals per game\n",
    "27. BLK: Blocks per game\n",
    "28. TOV: Turnovers per game\n",
    "29. PF: Personal fouls per game\n",
    "30. PPG: Points per game"
   ]
  },
  {
   "cell_type": "code",
   "execution_count": null,
   "metadata": {},
   "outputs": [],
   "source": [
    "unique(first.(nbadf.Pos,2))"
   ]
  },
  {
   "cell_type": "code",
   "execution_count": null,
   "metadata": {},
   "outputs": [],
   "source": []
  },
  {
   "cell_type": "code",
   "execution_count": null,
   "metadata": {},
   "outputs": [],
   "source": [
    "# To make a ColorGradient for Heatmaps: color_palette = cgrad(Sample color scheme = :roma, scale = :log))\n",
    "@df nbadf scatter(:MP, :PPG, group = :ALLSTAR, smooth = true,\n",
    "color_palette = palette(:auto))"
   ]
  },
  {
   "cell_type": "code",
   "execution_count": null,
   "metadata": {},
   "outputs": [],
   "source": [
    "histogram(nbadf.Age)"
   ]
  },
  {
   "cell_type": "code",
   "execution_count": null,
   "metadata": {},
   "outputs": [],
   "source": [
    "@df nbadf scatter(:ThreePA, :TwoP, group = :Tm)"
   ]
  },
  {
   "cell_type": "code",
   "execution_count": null,
   "metadata": {},
   "outputs": [],
   "source": [
    "scatter(nbadf.FTA, nbadf.Pos,group = nbadf.ALLSTAR)\n"
   ]
  }
 ],
 "metadata": {
  "kernelspec": {
   "display_name": "Julia 1.10.0",
   "language": "julia",
   "name": "julia-1.10"
  },
  "language_info": {
   "file_extension": ".jl",
   "mimetype": "application/julia",
   "name": "julia",
   "version": "1.10.0"
  }
 },
 "nbformat": 4,
 "nbformat_minor": 2
}
